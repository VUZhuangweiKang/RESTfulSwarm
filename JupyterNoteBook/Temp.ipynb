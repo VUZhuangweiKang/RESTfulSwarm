{
 "cells": [
  {
   "cell_type": "code",
   "execution_count": 5,
   "metadata": {},
   "outputs": [],
   "source": [
    "import pymongo as mg\n",
    "from matplotlib import pyplot as plt\n",
    "import pandas as pd\n",
    "import numpy as np\n",
    "import seaborn as sns\n",
    "\n",
    "\n",
    "# return a mongodb client\n",
    "def get_client(usr, pwd, address, port='27017'):\n",
    "    url = 'mongodb://%s:%s@%s:%s/RESTfulSwarmDB' % (usr, pwd, address, port)\n",
    "    return mg.MongoClient(url)\n",
    "\n",
    "\n",
    "# return a database object\n",
    "def get_db(client, db_name):\n",
    "    return client[db_name]\n",
    "\n",
    "\n",
    "# return a collection cursor object\n",
    "def get_col(db, col_name):\n",
    "    return db[col_name]\n",
    "\n",
    "\n",
    "# query data in a job collection\n",
    "def query_col(col):\n",
    "    return list(col.find({}))[0]\n",
    "\n",
    "\n",
    "# get a list of job collection name\n",
    "def get_all_cols(db):\n",
    "     return db.collection_names()\n",
    "\n",
    "# delete a collection(a job in my work)\n",
    "def drop_col(client, db_name, col_name):\n",
    "    db = client[db_name]\n",
    "    col = db[col_name]\n",
    "    col.drop()\n",
    "\n",
    "def find_col(col):\n",
    "    return list(col.find({}))\n",
    "\n",
    "def update_doc(col, filter_key, filter_value, target_key, target_value):\n",
    "    return col.update_one({filter_key: filter_value}, {\"$set\": {target_key: target_value}})"
   ]
  },
  {
   "cell_type": "code",
   "execution_count": 6,
   "metadata": {},
   "outputs": [],
   "source": [
    "client = get_client('admin', 'kzw', '129.114.108.18')\n",
    "db = get_db(client, 'RESTfulSwarmDB')"
   ]
  },
  {
   "cell_type": "code",
   "execution_count": 7,
   "metadata": {},
   "outputs": [
    {
     "name": "stdout",
     "output_type": "stream",
     "text": [
      "Reset MongoDB.\n"
     ]
    }
   ],
   "source": [
    "def clear_db():\n",
    "    all_cols = get_all_cols(db)\n",
    "    if 'WorkersResourceInfo' in all_cols:\n",
    "        # Drop worker resource info collection\n",
    "        drop_col(client, 'RESTfulSwarmDB', 'WorkersResourceInfo')\n",
    "\n",
    "    if 'WorkersInfo' in all_cols:\n",
    "        # Reset worker info collection\n",
    "        workers_info_col = get_col(db, 'WorkersInfo')\n",
    "        workers_info_data = find_col(workers_info_col)\n",
    "        for index, worker in enumerate(workers_info_data[:]):\n",
    "            for cpu in worker['CPUs']:\n",
    "                workers_info_data[index]['CPUs'][cpu] = False\n",
    "            update_doc(col=workers_info_col,\n",
    "                          filter_key='hostname',\n",
    "                          filter_value=worker['hostname'],\n",
    "                          target_key='CPUs',\n",
    "                          target_value=workers_info_data[index]['CPUs'])\n",
    "    print('Reset MongoDB.')\n",
    "clear_db()"
   ]
  },
  {
   "cell_type": "code",
   "execution_count": 8,
   "metadata": {},
   "outputs": [],
   "source": [
    "for col in get_all_cols(db):\n",
    "    db[col].drop()"
   ]
  }
 ],
 "metadata": {
  "kernelspec": {
   "display_name": "Python 3",
   "language": "python",
   "name": "python3"
  },
  "language_info": {
   "codemirror_mode": {
    "name": "ipython",
    "version": 3
   },
   "file_extension": ".py",
   "mimetype": "text/x-python",
   "name": "python",
   "nbconvert_exporter": "python",
   "pygments_lexer": "ipython3",
   "version": "3.6.4"
  }
 },
 "nbformat": 4,
 "nbformat_minor": 2
}
